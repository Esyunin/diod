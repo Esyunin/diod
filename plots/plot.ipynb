{
 "cells": [
  {
   "cell_type": "code",
   "execution_count": 33,
   "metadata": {},
   "outputs": [
    {
     "data": {
      "image/png": "[encoded data removed]",
      "text/plain": [
       "<Figure size 384x288 with 1 Axes>"
      ]
     },
     "metadata": {},
     "output_type": "display_data"
    }
   ],
   "source": [
    "import matplotlib\n",
    "from numpy import array \n",
    "from pylab import *\n",
    "from scipy import interpolate\n",
    "rc('text', usetex=False)\n",
    "rc('text.latex',preamble = \\\n",
    "[\n",
    "    r'\\usepackage[russian]{babel}',\n",
    "    r'\\usepackage{amsmath}',\n",
    "    r'\\usepackage{amssymb}',\n",
    "])\n",
    "rc('font',family='serif',size = 14)\n",
    "rc('axes',labelsize=22)\n",
    "rc('figure',figsize=[10/2.5*4/3,10/2.5])\n",
    "## Р’РђРҐ\n",
    "U1 = array([0,0.1,0.15,0.2,0.26,0.3,0.34,0.36,0.38,0.4,0.44])\n",
    "I1 = array([0,1,1,1,8,14,28,38,54,74,100])\n",
    "U2 = array([0,2,10,20,30,40,50,60,70,80,90,100])/100\n",
    "I2 = array([0,20,22,22,24,24,25,26,26,27,28,28])\n",
    "\n",
    "f1=interpolate.interp1d(U1,I1,kind='quadratic')\n",
    "f2=interpolate.interp1d(-U2,-I2,kind='linear')\n",
    "figure()\n",
    "color='darkblue'\n",
    "U_0 = sort(hstack((-U2,U1)))\n",
    "I_0 = sort(hstack((-I2,I1)))\n",
    "plot(U_0,I_0, marker='o',label='t_2',color=color)\n",
    "x = linspace(0,0.44,1000)\n",
    "plot(x,f1(x),color=color)\n",
    "x = linspace(-1,0,1000)\n",
    "plot(x,f2(x),color=color)\n",
    "xlabel('U')\n",
    "ylabel('I')\n",
    "# R = (100-38)/(0.44-0.36)\n",
    "# print(R)\n",
    "# y = log(I1[1:])\n",
    "# x =U1[1:]\n",
    "# fit = polyfit(x,y,1)\n",
    "# phi = fit[0]**-1\n",
    "# Is = 2.7**(fit[1])\n",
    "# print('phi',phi,'\\t','Is', Is)\n",
    "# x = linspace(0,0.44,1000)\n",
    "# y = Is*(exp(x/phi)-1)\n",
    "# plot(x,y,'r')\n",
    "# show()\n",
    "U1 = array([0,0.1,0.2,0.3,0.36,0.38,0.4,0.42])\n",
    "I1 = array([0,0,4,20,38,64,76,100])\n",
    "U2 = array([0,2,10,20,30,40,50,60,70,80,90,100])/100\n",
    "I2 = array([2,82,86,88,90,90,92,92,92,93,94,94])\n",
    "U_0 = sort(hstack((-U2,U1)))\n",
    "I_0 = sort(hstack((-I2,I1)))\n",
    "xticks([-1,-0.8,-0.6,-0.4,-0.2,0,0.2,0.4],\n",
    "        ['-100','-80','-60','-40','-20','0','0.2','0.4'])\n",
    "yticks([-100,-80,-60,-40,-20,0,20,40,60,80,100],\n",
    "        ['-0.1','-0.08','-0.06','-0.04','-0.02','0','20','40','60','80','100'])\n",
    "plot(U_0,I_0,marker='x',label='t',color='red')\n",
    "plot(U_0,I_0,'-',color='red',linestyle='dashed')\n",
    "legend()\n",
    "#savefig('/home/kannab/documents/diod/VAC.pdf',bbox_inches='tight')\n",
    "show()\n",
    "\n",
    "# figure()\n",
    "# U = array([0,2,6,10,20,30,40,42])\n",
    "# F = array([503.7,1241,1274,1282,1296,1307,1307,1307])\n",
    "# plot(U,F,)\n",
    "\n",
    "# xlabel(r'$U^{\\text{РѕР±СЂ}},\\text{ Р’}$')\n",
    "# ylabel(r'$\\nu^{\\text{СЂРµР·}},\\text{ РєР“С†}$')\n",
    "\n",
    "# show()"
   ]
  },
  {
   "cell_type": "code",
   "execution_count": null,
   "metadata": {},
   "outputs": [],
   "source": []
  }
 ],
 "metadata": {
  "kernelspec": {
   "display_name": "Python 3",
   "language": "python",
   "name": "python3"
  },
  "language_info": {
   "codemirror_mode": {
    "name": "ipython",
    "version": 3
   },
   "file_extension": ".py",
   "mimetype": "text/x-python",
   "name": "python",
   "nbconvert_exporter": "python",
   "pygments_lexer": "ipython3",
   "version": "3.6.5"
  }
 },
 "nbformat": 4,
 "nbformat_minor": 2
}
